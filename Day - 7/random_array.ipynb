{
 "cells": [
  {
   "cell_type": "markdown",
   "metadata": {},
   "source": [
    "Random Array"
   ]
  },
  {
   "cell_type": "code",
   "execution_count": 19,
   "metadata": {},
   "outputs": [
    {
     "name": "stdout",
     "output_type": "stream",
     "text": [
      "[[ 5 19  3  4 10]\n",
      " [15  6  0  2 10]\n",
      " [ 7 19  1  1 11]\n",
      " [18 14  3  3 13]\n",
      " [14  5  6  1  1]]\n",
      "2.24\n"
     ]
    }
   ],
   "source": [
    "from numpy import random\n",
    "random_array = random.randint(20, size=(5, 5))\n",
    "print(random_array)\n",
    "\n",
    "random_array_float = round(random.rand() * 5, 2)\n",
    "print(random_array_float)"
   ]
  },
  {
   "cell_type": "markdown",
   "metadata": {},
   "source": [
    "Random Numbers from an Array"
   ]
  },
  {
   "cell_type": "code",
   "execution_count": 35,
   "metadata": {},
   "outputs": [
    {
     "name": "stdout",
     "output_type": "stream",
     "text": [
      "11\n"
     ]
    }
   ],
   "source": [
    "from numpy import random\n",
    "random_element = random.choice([0,1,4,5,7,10,11,13,15])\n",
    "\n",
    "print(random_element)"
   ]
  }
 ],
 "metadata": {
  "kernelspec": {
   "display_name": "Python 3",
   "language": "python",
   "name": "python3"
  },
  "language_info": {
   "codemirror_mode": {
    "name": "ipython",
    "version": 3
   },
   "file_extension": ".py",
   "mimetype": "text/x-python",
   "name": "python",
   "nbconvert_exporter": "python",
   "pygments_lexer": "ipython3",
   "version": "3.13.0"
  }
 },
 "nbformat": 4,
 "nbformat_minor": 2
}
